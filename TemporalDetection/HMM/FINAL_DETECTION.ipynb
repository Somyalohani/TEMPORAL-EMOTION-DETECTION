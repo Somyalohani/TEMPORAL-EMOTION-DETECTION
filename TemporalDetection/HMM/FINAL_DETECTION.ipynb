{
 "cells": [
  {
   "cell_type": "code",
   "execution_count": 1,
   "metadata": {},
   "outputs": [],
   "source": [
    "import pandas as pd\n",
    "import seaborn as sns\n",
    "import matplotlib.pyplot as plt\n",
    "import numpy as np\n",
    "import csv\n",
    "from csv import reader"
   ]
  },
  {
   "cell_type": "code",
   "execution_count": 2,
   "metadata": {},
   "outputs": [],
   "source": [
    "with open('Train_set', 'r') as read_obj:\n",
    "    csv_reader = reader(read_obj)\n",
    "    train = list(csv_reader)\n",
    "train_list = []\n",
    "for inner_list in train:\n",
    "    inner_out_list = []\n",
    "    for string in inner_list:\n",
    "        inner_out_list.append(int(string))\n",
    "    train_list.append(inner_out_list)"
   ]
  },
  {
   "cell_type": "code",
   "execution_count": 3,
   "metadata": {},
   "outputs": [
    {
     "data": {
      "text/plain": [
       "[[1, 0, 2, 1, 1, 0, 0, 2, 2, 2, 2, 2, 2, 1, 1],\n",
       " [1, 0, 0, 0, 0, 2, 0, 2, 0, 0, 0, 0, 0, 2, 0],\n",
       " [1, 1, 0, 2, 0, 2, 0, 0, 0, 0, 0, 1, 2, 0, 2],\n",
       " [2, 1, 1, 1, 0, 0, 0, 0, 0, 0, 0, 0, 0, 0, 0],\n",
       " [1, 1, 0, 0, 0, 0, 2, 0, 0, 0, 2, 0, 0, 0, 0],\n",
       " [2, 2, 1, 1, 1, 0, 0, 2, 0, 0, 0, 2, 0, 1, 0],\n",
       " [1, 2, 2, 2, 2, 0, 2, 2, 0, 2, 0, 2, 2, 0, 0],\n",
       " [0, 0, 2, 0, 1, 0, 0, 0, 0, 0, 0, 0, 0, 0, 0],\n",
       " [1, 1, 2, 2, 0, 2, 2, 0, 1, 2, 0, 0, 0, 2, 0],\n",
       " [1, 0, 2, 0, 2, 0, 2, 0, 0, 0, 0, 0, 0, 1, 0],\n",
       " [2, 1, 1, 1, 2, 0, 2, 0, 2, 0, 2, 0, 0, 0, 0],\n",
       " [1, 1, 1, 1, 2, 0, 2, 2, 2, 0, 0, 2, 0, 2, 0],\n",
       " [1, 1, 0, 2, 2, 2, 0, 0, 2, 2, 0, 0, 0, 0, 1],\n",
       " [0, 1, 0, 0, 0, 0, 0, 0, 0, 1, 0, 0, 0, 0, 0],\n",
       " [0, 2, 2, 0, 1, 0, 0, 2, 0, 1, 0, 0, 0, 0, 0],\n",
       " [1, 1, 2, 0, 0, 0, 0, 0, 2, 0, 0, 0, 2, 1, 0],\n",
       " [2, 1, 1, 2, 1, 0, 0, 0, 0, 0, 0, 0, 0, 0, 2],\n",
       " [1, 1, 1, 1, 1, 0, 0, 0, 0, 0, 0, 0, 1, 0, 2],\n",
       " [1, 2, 0, 2, 0, 0, 0, 0, 0, 0, 2, 0, 0, 0, 0],\n",
       " [1, 1, 1, 0, 1, 2, 0, 0, 0, 1, 2, 1, 0, 0, 1],\n",
       " [2, 1, 1, 1, 0, 2, 0, 0, 0, 0, 0, 0, 0, 0, 0],\n",
       " [1, 1, 2, 2, 1, 1, 1, 0, 0, 0, 0, 2, 0, 2, 0],\n",
       " [2, 1, 0, 1, 1, 0, 1, 0, 2, 1, 0, 0, 2, 0, 1],\n",
       " [1, 1, 1, 0, 2, 0, 0, 0, 0, 0, 0, 0, 0, 0, 0],\n",
       " [0, 2, 1, 1, 1, 1, 0, 0, 0, 0, 0, 2, 0, 2, 0],\n",
       " [2, 2, 1, 1, 0, 0, 2, 0, 0, 2, 0, 1, 0, 0, 0],\n",
       " [1, 1, 0, 0, 0, 0, 0, 0, 0, 0, 0, 0, 0, 0, 0],\n",
       " [2, 2, 1, 1, 1, 1, 1, 0, 0, 0, 0, 0, 2, 0, 2],\n",
       " [2, 1, 1, 1, 1, 1, 0, 0, 0, 0, 0, 2, 0, 0, 0],\n",
       " [2, 2, 2, 2, 1, 1, 1, 1, 1, 0, 0, 2, 2, 0, 1],\n",
       " [1, 0, 0, 2, 0, 0, 0, 0, 0, 0, 0, 0, 0, 0, 0],\n",
       " [2, 1, 1, 1, 1, 1, 0, 0, 2, 1, 0, 2, 0, 0, 0],\n",
       " [2, 1, 1, 1, 1, 1, 0, 0, 2, 1, 0, 2, 0, 0, 0],\n",
       " [2, 1, 1, 1, 1, 1, 0, 2, 0, 0, 2, 2, 2, 1, 0],\n",
       " [1, 2, 1, 1, 1, 1, 0, 0, 0, 0, 0, 0, 0, 2, 0],\n",
       " [2, 1, 1, 1, 0, 0, 0, 0, 0, 0, 0, 0, 0, 1, 2],\n",
       " [2, 1, 2, 1, 1, 0, 0, 0, 2, 0, 0, 2, 0, 0, 0],\n",
       " [2, 1, 1, 1, 1, 0, 2, 0, 2, 0, 0, 0, 0, 0, 0],\n",
       " [2, 1, 1, 1, 0, 0, 0, 0, 2, 0, 0, 2, 1, 2, 2],\n",
       " [1, 1, 1, 1, 0, 0, 0, 0, 0, 0, 0, 0, 0, 0, 0],\n",
       " [0, 2, 1, 1, 1, 0, 0, 1, 0, 0, 0, 2, 0, 0, 2],\n",
       " [0, 1, 1, 0, 1, 2, 0, 0, 0, 0, 0, 0, 2, 1, 2],\n",
       " [2, 1, 1, 1, 1, 0, 0, 0, 2, 0, 2, 0, 0, 2, 0],\n",
       " [2, 1, 1, 1, 2, 0, 2, 0, 2, 0, 2, 0, 0, 0, 0]]"
      ]
     },
     "execution_count": 3,
     "metadata": {},
     "output_type": "execute_result"
    }
   ],
   "source": [
    "train_list"
   ]
  },
  {
   "cell_type": "markdown",
   "metadata": {},
   "source": [
    "# Baum-Welch algorithm for implmentation of HMM\n",
    "\n",
    "I'm not thoroughly acquaninted with the algorithm and its mathematics. I have used the algorithm from https://github.com/adeveloperdiary/HiddenMarkovModel/tree/master/part3. I've used the updating scheme in \"Multiple sequences\" section in https://en.wikipedia.org/wiki/Baum%E2%80%93Welch_algorithm to enable it to take multiple such nod sequences and learn better."
   ]
  },
  {
   "cell_type": "code",
   "execution_count": 4,
   "metadata": {},
   "outputs": [],
   "source": [
    "def forward(V, a, b, initial_distribution):\n",
    "    alpha = np.zeros((V.shape[0], a.shape[0]))\n",
    "    alpha[0, :] = initial_distribution * b[:, V[0]]\n",
    "    for t in range(1, V.shape[0]):\n",
    "        for j in range(a.shape[0]):\n",
    "            alpha[t, j] = alpha[t - 1].dot(a[:, j]) * b[j, V[t]]\n",
    "    return alpha\n",
    "\n",
    "def backward(V, a, b):\n",
    "    beta = np.zeros((V.shape[0], a.shape[0]))\n",
    "    beta[V.shape[0] - 1] = np.ones((a.shape[0]))\n",
    "    for t in range(V.shape[0] - 2, -1, -1):\n",
    "        for j in range(a.shape[0]):\n",
    "            beta[t, j] = (beta[t + 1] * b[:, V[t + 1]]).dot(a[j, :])\n",
    "    return beta\n",
    "\n",
    "# need to make sure that all lists in V are of same length\n",
    "def baum_welch(V, a, b, initial_distribution, n_iter=100):\n",
    "    M = a.shape[0]\n",
    "    T = len(V[0])\n",
    "    for n in range(n_iter):\n",
    "        xi = np.zeros((M, M, T - 1))\n",
    "        for vs in V:\n",
    "            alpha = forward(vs, a, b, initial_distribution)\n",
    "            beta = backward(vs, a, b)\n",
    "            for t in range(T - 1):\n",
    "                denominator = np.dot(np.dot(alpha[t, :].T, a) * b[:, vs[t + 1]].T, beta[t + 1, :])\n",
    "                for i in range(M):\n",
    "                    numerator = alpha[t, i] * a[i, :] * b[:, vs[t + 1]].T * beta[t + 1, :].T\n",
    "                    xi[i, :, t] += numerator / denominator\n",
    "        gamma = np.sum(xi, axis=1)\n",
    "        a = np.sum(xi, 2) / np.sum(gamma, axis=1).reshape((-1, 1))\n",
    "        gamma = np.hstack((gamma, np.sum(xi[:, :, T - 2], axis=0).reshape((-1, 1))))\n",
    "        K = b.shape[1]\n",
    "        denominator = np.sum(gamma, axis=1)\n",
    "        for l in range(K):\n",
    "            sumval = 0\n",
    "            for vs in V:\n",
    "                sumval += np.sum(gamma[:, vs == l], axis=1)\n",
    "            b[:,l] = sumval\n",
    "        b = np.divide(b, denominator.reshape((-1, 1)))\n",
    "    return {\"a\":a, \"b\":b}"
   ]
  },
  {
   "cell_type": "markdown",
   "metadata": {},
   "source": [
    "0 => Stable action\n",
    "1 => Up action\n",
    "2 => Down action"
   ]
  },
  {
   "cell_type": "code",
   "execution_count": 5,
   "metadata": {},
   "outputs": [],
   "source": [
    "# this is a 3 nod dataset created manually, all of size 8\n",
    "V = np.array(train_list)\n",
    "\n",
    "# no of states and actions are chosen as up, down and stable. \n",
    "a = np.ones((3, 3))\n",
    "a = a / np.sum(a, axis=1)\n",
    "\n",
    "b = np.ones((3,3))\n",
    "b = b / np.sum(b, axis=1).reshape((-1, 1))\n",
    "\n",
    "# starts with stable\n",
    "initial_distribution = np.array((1,0,0))\n",
    "\n",
    "# print(baum_welch(V, a, b, initial_distribution, n_iter=100))\n",
    "# abdict contains both the learned parameters -> a and b.\n",
    "# these will be used for predictions\n",
    "abdict = baum_welch(V, a, b, initial_distribution, n_iter=100)"
   ]
  },
  {
   "cell_type": "code",
   "execution_count": 6,
   "metadata": {},
   "outputs": [],
   "source": [
    "def prediction(test_seq, abdict, threshold=0.001):\n",
    "    initial_distribution = np.array((1,0,0))\n",
    "    return (forward(test_seq, abdict['a'], abdict['b'], initial_distribution)[-1,0]*pow(10,-16))"
   ]
  },
  {
   "cell_type": "markdown",
   "metadata": {},
   "source": [
    "Testing on succesful Nod cases "
   ]
  },
  {
   "cell_type": "code",
   "execution_count": 7,
   "metadata": {},
   "outputs": [
    {
     "name": "stdout",
     "output_type": "stream",
     "text": [
      "0.9320538249771981\n",
      "0.6849682133380844\n",
      "0.7795781929659338\n",
      "0.7990164223789075\n",
      "0.43153353964773256\n",
      "0.9093791019467455\n",
      "0.4422935224416814\n",
      "0.5033845049612659\n",
      "0.503384504961346\n",
      "0.44229352244236625\n",
      "0.909379101946732\n",
      "0.5159360406229139\n",
      "0.3791624243917697\n"
     ]
    }
   ],
   "source": [
    "print(prediction(np.array([1, 2, 0, 1, 1, 0, 1, 0, 0, 0, 0, 0, 0, 0, 0]), abdict))\n",
    "print(prediction(np.array([2, 0, 1, 1, 1, 0, 0, 2, 0, 0, 0, 0, 0, 2, 1]), abdict))\n",
    "print(prediction(np.array([1, 1, 0, 2, 1, 0, 2, 2, 1, 2, 0, 0, 0, 1, 2]), abdict))\n",
    "print(prediction(np.array([1, 1, 0, 0, 0, 0, 0, 0, 0, 0, 1, 2, 0, 2, 1]), abdict))\n",
    "print(prediction(np.array([2, 2, 2, 0, 0, 1, 1, 2, 1, 2, 1, 0, 2, 0, 0]), abdict))\n",
    "print(prediction(np.array([1, 1, 1, 2, 2, 1, 0, 0, 2, 0, 0, 2, 1, 0, 0]), abdict))\n",
    "print(prediction(np.array([2, 1, 1, 1, 0, 0, 0, 0, 0, 2, 0, 0, 0, 2, 0]), abdict))\n",
    "print(prediction(np.array([2, 0, 1, 1, 1, 2, 0, 0, 2, 2, 2, 0, 0, 1, 0]), abdict))\n",
    "print(prediction(np.array([2, 1, 1, 0, 0, 0, 2, 2, 0, 0, 0, 2, 1, 2, 1]), abdict))\n",
    "print(prediction(np.array([1, 1, 0, 2, 0, 0, 0, 0, 0, 0, 2, 0, 0, 1, 2]), abdict))\n",
    "print(prediction(np.array([1, 1, 1, 2, 0, 2, 0, 0, 2, 1, 0, 1, 2, 0, 0]), abdict))\n",
    "print(prediction(np.array([1, 1, 0, 2, 0, 1, 0, 2, 0, 0, 0, 0, 0, 0, 0]), abdict))\n",
    "print(prediction(np.array([2, 2, 1, 1, 1, 0, 0, 2, 0, 0, 2, 0, 0, 0, 0]), abdict))"
   ]
  },
  {
   "cell_type": "markdown",
   "metadata": {},
   "source": [
    "Testing on Random cases"
   ]
  },
  {
   "cell_type": "code",
   "execution_count": 8,
   "metadata": {},
   "outputs": [
    {
     "name": "stdout",
     "output_type": "stream",
     "text": [
      "0.31713485823119325\n",
      "0.8872560027078373\n",
      "0.23887430089907843\n",
      "0.25093513616016483\n",
      "0.20988440232873848\n",
      "0.4422935224421973\n",
      "0.285595092129033\n",
      "0.2509351361601763\n",
      "0.3886165705709504\n"
     ]
    }
   ],
   "source": [
    "print(prediction(np.array([2, 1, 2, 1, 0, 2, 0, 2, 2, 1, 2, 0, 2, 1, 2]), abdict))\n",
    "print(prediction(np.array([1, 2, 2, 1, 2, 1, 1, 0, 2, 2, 0, 1, 2, 1, 2]), abdict))\n",
    "print(prediction(np.array([0, 2, 2, 1, 2, 2, 1, 0, 0, 2, 1, 2, 0, 0, 2]), abdict))\n",
    "print(prediction(np.array([1, 0, 0, 0, 0, 0, 0, 2, 0, 0, 0, 0, 0, 0, 0]), abdict))\n",
    "print(prediction(np.array([0, 0, 2, 0, 1, 0, 2, 1, 0, 0, 0, 0, 2, 2, 2]), abdict))\n",
    "print(prediction(np.array([1, 1, 0, 2, 0, 2, 0, 0, 0, 0, 0, 2, 0, 0, 1]), abdict))\n",
    "print(prediction(np.array([2, 2, 0, 0, 0, 2, 1, 0, 0, 0, 0, 0, 0, 1, 0]), abdict))\n",
    "print(prediction(np.array([1, 0, 0, 0, 0, 0, 0, 0, 2, 0, 0, 0, 0, 0, 0]), abdict))\n",
    "print(prediction(np.array([1, 2, 1, 0, 0, 0, 0, 0, 0, 0, 0, 0, 0, 0, 0]), abdict))"
   ]
  },
  {
   "cell_type": "code",
   "execution_count": null,
   "metadata": {},
   "outputs": [],
   "source": []
  }
 ],
 "metadata": {
  "kernelspec": {
   "display_name": "Python 3 (ipykernel)",
   "language": "python",
   "name": "python3"
  },
  "language_info": {
   "codemirror_mode": {
    "name": "ipython",
    "version": 3
   },
   "file_extension": ".py",
   "mimetype": "text/x-python",
   "name": "python",
   "nbconvert_exporter": "python",
   "pygments_lexer": "ipython3",
   "version": "3.9.10"
  }
 },
 "nbformat": 4,
 "nbformat_minor": 2
}
